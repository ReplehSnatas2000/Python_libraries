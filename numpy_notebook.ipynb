{
 "cells": [
  {
   "cell_type": "code",
   "execution_count": 1,
   "metadata": {},
   "outputs": [
    {
     "name": "stdout",
     "output_type": "stream",
     "text": [
      "<class 'numpy.ndarray'>\n",
      "[1 2 3 4 5]\n"
     ]
    }
   ],
   "source": [
    "import numpy as np\n",
    "a = [1, 2, 3, 4, 5]\n",
    "b = np.array(a)\n",
    "print(type(b))\n",
    "print(b)\n"
   ]
  },
  {
   "cell_type": "code",
   "execution_count": 13,
   "metadata": {},
   "outputs": [
    {
     "name": "stdout",
     "output_type": "stream",
     "text": [
      "[ 8 11 14]\n",
      "int32\n"
     ]
    }
   ],
   "source": [
    "s = np.arange(8, 17, 3)\n",
    "t = np.eye(6)\n",
    "print(s)\n",
    "print(s.dtype)\n"
   ]
  },
  {
   "cell_type": "code",
   "execution_count": 14,
   "metadata": {},
   "outputs": [
    {
     "name": "stdout",
     "output_type": "stream",
     "text": [
      "[[1. 0. 0.]\n",
      " [0. 1. 0.]\n",
      " [0. 0. 1.]]\n",
      "[1. 0. 0. 0. 1. 0. 0. 0. 1.]\n",
      "(9,)\n",
      "(3, 3)\n"
     ]
    }
   ],
   "source": [
    "t1 = np.eye(3)\n",
    "np.linspace(0, 1, 4)\n",
    "np.random.randn(3)\n",
    "print(t1)\n",
    "d = t1.reshape(9)\n",
    "print(d)\n",
    "print(d.shape)\n",
    "print(t1.shape)\n"
   ]
  },
  {
   "cell_type": "code",
   "execution_count": 15,
   "metadata": {},
   "outputs": [
    {
     "name": "stdout",
     "output_type": "stream",
     "text": [
      "[ 7 18 20]\n",
      "[18 20  6 45]\n"
     ]
    }
   ],
   "source": [
    "import numpy as np\n",
    "a1 = [2, 5, 7, 18, 20, 6, 45]\n",
    "b1 = np.array(a1)\n",
    "print(b1[2:5])\n",
    "print(b1[3:])\n"
   ]
  },
  {
   "cell_type": "code",
   "execution_count": 16,
   "metadata": {},
   "outputs": [
    {
     "name": "stdout",
     "output_type": "stream",
     "text": [
      "[ 2 40 40 40 20  6 45]\n",
      "[100 100  40  40  20   6  45]\n",
      "[ 2 40 40 40 20  6 45]\n"
     ]
    }
   ],
   "source": [
    "b1[1:4] = 40\n",
    "print(b1)\n",
    "# b2 = b1\n",
    "b2 = b1.copy()\n",
    "b2[:2] = 100\n",
    "print(b2)\n",
    "print(b1)\n"
   ]
  },
  {
   "attachments": {},
   "cell_type": "markdown",
   "metadata": {},
   "source": [
    "Two dimensional array"
   ]
  },
  {
   "cell_type": "code",
   "execution_count": 43,
   "metadata": {},
   "outputs": [
    {
     "name": "stdout",
     "output_type": "stream",
     "text": [
      "5\n",
      "5\n",
      "[4 5]\n",
      "[9 0 2]\n",
      "[[4 5]]\n"
     ]
    }
   ],
   "source": [
    "arr_2d = np.array([[2, 4, 5], [10, 34, 5], [9, 0, 2]])\n",
    "print(arr_2d[1][2])\n",
    "print(arr_2d[1, 2])\n",
    "# print(arr_2d[:2][1:])\n",
    "print(arr_2d[:1][0][1:])\n",
    "print(arr_2d[1:][1])\n",
    "print(arr_2d[:1, 1:])\n"
   ]
  },
  {
   "cell_type": "code",
   "execution_count": 3,
   "metadata": {},
   "outputs": [
    {
     "name": "stdout",
     "output_type": "stream",
     "text": [
      "[1 2 3]\n"
     ]
    }
   ],
   "source": [
    "import numpy as np\n",
    "arr = np.arange(1, 11)\n",
    "bool_arr = arr < 4\n",
    "print(arr[bool_arr])\n"
   ]
  },
  {
   "cell_type": "code",
   "execution_count": 7,
   "metadata": {},
   "outputs": [
    {
     "name": "stdout",
     "output_type": "stream",
     "text": [
      "[[13 14]\n",
      " [23 24]]\n",
      "[ 10  20  30  40  50  60  70  80  90 100]\n",
      "[   1    8   27   64  125  216  343  512  729 1000]\n"
     ]
    }
   ],
   "source": [
    "x = np.arange(50).reshape(5, 10)\n",
    "# print(x)\n",
    "print(x[1:3, 3:5])\n",
    "print(x[1, 0]*arr)\n",
    "print(arr**3)\n"
   ]
  }
 ],
 "metadata": {
  "kernelspec": {
   "display_name": "Python 3",
   "language": "python",
   "name": "python3"
  },
  "language_info": {
   "codemirror_mode": {
    "name": "ipython",
    "version": 3
   },
   "file_extension": ".py",
   "mimetype": "text/x-python",
   "name": "python",
   "nbconvert_exporter": "python",
   "pygments_lexer": "ipython3",
   "version": "3.11.4"
  },
  "orig_nbformat": 4
 },
 "nbformat": 4,
 "nbformat_minor": 2
}
